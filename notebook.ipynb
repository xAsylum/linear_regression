{
 "cells": [
  {
   "metadata": {},
   "cell_type": "markdown",
   "source": "This is my approach to linear regression problem. ",
   "id": "c99183a95ecc289f"
  },
  {
   "metadata": {
    "ExecuteTime": {
     "end_time": "2025-04-04T19:01:41.560907Z",
     "start_time": "2025-04-04T19:00:22.438819Z"
    }
   },
   "cell_type": "code",
   "source": [
    "import numpy as np\n",
    "from linear_regression import filename, LinearRegressionModel\n",
    "\n",
    "model = LinearRegressionModel(filename, normalise=True)\n",
    "\n",
    "model.set_parameters(eta=0.0015, stop=1)\n",
    "model.mini_batch = True\n",
    "model.linear_regression()\n",
    "\n"
   ],
   "id": "11dfdb7d688c8384",
   "outputs": [
    {
     "data": {
      "text/plain": [
       "[np.float64(957.0853461217492),\n",
       " np.float64(-11.326119187401229),\n",
       " np.float64(0.9873841648409555),\n",
       " np.float64(-27.697287400454123),\n",
       " np.float64(681.8946454841816),\n",
       " np.float64(695.3381826504734),\n",
       " np.float64(-0.8336875727830415),\n",
       " np.float64(0.09094238401301563)]"
      ]
     },
     "execution_count": 1,
     "metadata": {},
     "output_type": "execute_result"
    }
   ],
   "execution_count": 1
  },
  {
   "metadata": {
    "ExecuteTime": {
     "end_time": "2025-04-04T19:02:09.351263Z",
     "start_time": "2025-04-04T19:02:09.346300Z"
    }
   },
   "cell_type": "code",
   "source": [
    "from random import randrange\n",
    "i = randrange(0, len(model.test) - 1, 1)\n",
    "p = model.prediction([1, *[model.test[i][j] for j in range(len(model.test[0]) - 1)]])\n",
    "a = model.test[i][-1]\n",
    "np.set_printoptions(precision=2)\n",
    "print(f\"prediction: {\"%0.2f\" %  p}. actual: {\"%0.2f\" %  a}, error = {\"%0.2f\" % (abs(p - a) / a * 100)}%\")"
   ],
   "id": "b5b102e0f0f423da",
   "outputs": [
    {
     "name": "stdout",
     "output_type": "stream",
     "text": [
      "prediction: 170.51. actual: 292.79, error = 41.76%\n"
     ]
    }
   ],
   "execution_count": 5
  },
  {
   "metadata": {
    "ExecuteTime": {
     "end_time": "2025-04-04T19:02:11.938821Z",
     "start_time": "2025-04-04T19:02:11.931644Z"
    }
   },
   "cell_type": "code",
   "source": "print(model.MSE())",
   "id": "54ce51fd23ec0cf6",
   "outputs": [
    {
     "name": "stdout",
     "output_type": "stream",
     "text": [
      "35272.210115091846\n"
     ]
    }
   ],
   "execution_count": 7
  },
  {
   "metadata": {
    "ExecuteTime": {
     "end_time": "2025-04-04T13:48:53.292159Z",
     "start_time": "2025-04-04T13:48:53.290237Z"
    }
   },
   "cell_type": "code",
   "source": [
    "#print(np.mean([quadratic_loss(model, train[i]) ** 2 for i in range(len(train))]))\n",
    "# print(linear_regression.quadratic_loss(model, test[0]))"
   ],
   "id": "e8e8a79d29ff742c",
   "outputs": [],
   "execution_count": 4
  }
 ],
 "metadata": {
  "kernelspec": {
   "display_name": "Python 3",
   "language": "python",
   "name": "python3"
  },
  "language_info": {
   "codemirror_mode": {
    "name": "ipython",
    "version": 2
   },
   "file_extension": ".py",
   "mimetype": "text/x-python",
   "name": "python",
   "nbconvert_exporter": "python",
   "pygments_lexer": "ipython2",
   "version": "2.7.6"
  }
 },
 "nbformat": 4,
 "nbformat_minor": 5
}
